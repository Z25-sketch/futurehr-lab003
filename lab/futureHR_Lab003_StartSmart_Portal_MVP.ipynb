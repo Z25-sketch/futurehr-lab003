{
 "cells": [
  {
   "cell_type": "markdown",
   "id": "a8bd7191",
   "metadata": {},
   "source": [
    "# 🧠 futureHR Lab #003: StartSmart Portal MVP\n",
    "\n",
    "**Lab Type:** MVP/Product  \n",
    "**Estimated Time:** 180–360 mins  \n",
    "**Skill Level:** Advanced"
   ]
  },
  {
   "cell_type": "code",
   "execution_count": null,
   "id": "e3eda0ca",
   "metadata": {},
   "outputs": [],
   "source": [
    "# Let's begin by printing your name to personalize the notebook\n",
    "your_name = \"\"\n",
    "print(f\"Welcome to the lab, {your_name}!\")"
   ]
  },
  {
   "cell_type": "markdown",
   "id": "abd20b04",
   "metadata": {},
   "source": [
    "## 🔍 STAR Method Lab Prompt\n",
    "\n",
    "**Situation:**  \n",
    "[Define your scenario here.]\n",
    "\n",
    "**Task:**  \n",
    "[What challenge are you solving in HR?]\n",
    "\n",
    "**Action:**  \n",
    "[Which Google tools will you use? How will Gemini help?]\n",
    "\n",
    "**Expected Result:**  \n",
    "[A clear deliverable or outcome to include in your portfolio.]"
   ]
  },
  {
   "cell_type": "markdown",
   "id": "09a95a31",
   "metadata": {},
   "source": [
    "## ✍️ Your Assignment\n",
    "\n",
    "_Use this section to complete your deliverable:_\n",
    "\n",
    "```markdown\n",
    "(Example Format)\n",
    "\n",
    "- **MVP Name**: StartSmart Portal  \n",
    "- **Audience**: HR Managers + New Hires  \n",
    "- **Stack**: Firebase + Gemini + Google Chatbot + Docs  \n",
    "- **Features**:  \n",
    "   - Dynamic onboarding checklist  \n",
    "   - AI-powered Q&A from company wiki  \n",
    "   - PDF export for compliance  \n",
    "- **Outcome**: Live onboarding app demo  \n",
    "```"
   ]
  }
 ],
 "metadata": {},
 "nbformat": 4,
 "nbformat_minor": 5
}
