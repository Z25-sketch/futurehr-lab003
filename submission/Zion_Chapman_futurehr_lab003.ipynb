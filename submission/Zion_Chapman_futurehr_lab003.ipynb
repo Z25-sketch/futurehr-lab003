{
  "cells": [
    {
      "cell_type": "markdown",
      "id": "a8bd7191",
      "metadata": {
        "id": "a8bd7191"
      },
      "source": [
        "# 🧠 futureHR Lab #003: StartSmart Portal MVP\n",
        "\n",
        "**Lab Type:** MVP/Product  \n",
        "**Estimated Time:** 180–360 mins  \n",
        "**Skill Level:** Advanced"
      ]
    },
    {
      "cell_type": "code",
      "execution_count": 1,
      "id": "e3eda0ca",
      "metadata": {
        "colab": {
          "base_uri": "https://localhost:8080/"
        },
        "id": "e3eda0ca",
        "outputId": "3fe11f6c-bba2-48a3-80c9-51fc9a61f885"
      },
      "outputs": [
        {
          "output_type": "stream",
          "name": "stdout",
          "text": [
            "Welcome to the lab, Zion Chapman!\n"
          ]
        }
      ],
      "source": [
        "# Let's begin by printing your name to personalize the notebook\n",
        "your_name = \"Zion Chapman\"\n",
        "print(f\"Welcome to the lab, {your_name}!\")"
      ]
    },
    {
      "cell_type": "markdown",
      "id": "abd20b04",
      "metadata": {
        "id": "abd20b04"
      },
      "source": [
        "## 🔍 STAR Method Lab Prompt\n",
        "\n",
        "**Situation:**  \n",
        "[As a new HR Technology Specialist, I've noticed that our current onboarding process for new hires is time-consuming. HR has sent out many emails with different documents. This can lead to a less-than-ideal experience and take up a lot of HR's time]\n",
        "\n",
        "**Task:**  \n",
        "[My challenge is to improve the new hire onboarding process to improve efficiency for the HR team and create a more engaging and informative experience for new employees.]\n",
        "\n",
        "**Action:**  \n",
        "[I will design an AI-powered \"StartSmart Onboarding Assistant\" using Google tools, with Gemini acting as the core intelligence.]\n",
        "\n",
        "**Expected Result:**  \n",
        "[A clear design and outline for a \"StartSmart Onboarding Assistant\",demonstrates how Google tools and AI can evolve onboarding. Reduce manual workload and provide a better experience for new hires.]"
      ]
    },
    {
      "cell_type": "markdown",
      "id": "09a95a31",
      "metadata": {
        "id": "09a95a31"
      },
      "source": [
        "## ✍️ My Assignment\n",
        "\n",
        "-   **MVP Name**: StartSmart Onboarding Assistant\n",
        "-   **Audience**: HR Managers + New Hires\n",
        "-   **Stack**: Google Docs + Gemini + Google Chatbot + Google Calendar + Gmail\n",
        "-   **Features**:\n",
        "    -   **Automated meeting scheduling**\n",
        "    -   **Automated task reminders and guidance**\n",
        "    -   **Centralized resource hub**:\n",
        "    -   **Progress tracking (future concept)**:\n",
        "-   **Outcome**: A detailed design and operational flow for the \"StartSmart Onboarding Assistant,\" illustrating how Google's ecosystem and AI can automate routine onboarding tasks and free up HR's time.. This will be a valuable concept to include in my portfolio."
      ]
    }
  ],
  "metadata": {
    "colab": {
      "provenance": []
    },
    "language_info": {
      "name": "python"
    },
    "kernelspec": {
      "name": "python3",
      "display_name": "Python 3"
    }
  },
  "nbformat": 4,
  "nbformat_minor": 5
}